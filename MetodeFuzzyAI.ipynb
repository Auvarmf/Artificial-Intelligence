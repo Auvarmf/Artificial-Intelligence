{
  "nbformat": 4,
  "nbformat_minor": 0,
  "metadata": {
    "colab": {
      "provenance": [],
      "authorship_tag": "ABX9TyPXY6Epn7DfloTuKeQfdgjN",
      "include_colab_link": true
    },
    "kernelspec": {
      "name": "python3",
      "display_name": "Python 3"
    },
    "language_info": {
      "name": "python"
    }
  },
  "cells": [
    {
      "cell_type": "markdown",
      "metadata": {
        "id": "view-in-github",
        "colab_type": "text"
      },
      "source": [
        "<a href=\"https://colab.research.google.com/github/Auvarmf/Artificial-Intelligence/blob/main/MetodeFuzzyAI.ipynb\" target=\"_parent\"><img src=\"https://colab.research.google.com/assets/colab-badge.svg\" alt=\"Open In Colab\"/></a>"
      ]
    },
    {
      "cell_type": "markdown",
      "source": [
        "# Metode Fuzzy"
      ],
      "metadata": {
        "id": "H2QB4PtnAbQ6"
      }
    },
    {
      "cell_type": "markdown",
      "source": [
        "## Penerapan Metode Tsukamoto\n",
        "\n",
        "\n",
        "---\n",
        "\n",
        "\n",
        "Menggunakan data sebagai berikut\n",
        "\n",
        "![Screenshot (154).png](data:image/png;base64,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)\n",
        "\n",
        "\n",
        "---\n",
        "\n"
      ],
      "metadata": {
        "id": "oQ_e62HUAg6D"
      }
    },
    {
      "cell_type": "markdown",
      "source": [
        "## Library"
      ],
      "metadata": {
        "id": "AS5LHxLgBNuz"
      }
    },
    {
      "cell_type": "code",
      "execution_count": 14,
      "metadata": {
        "id": "QpivMeRz62v-",
        "colab": {
          "base_uri": "https://localhost:8080/"
        },
        "outputId": "ecb879a1-0330-47e1-9359-d722f87e27aa"
      },
      "outputs": [
        {
          "output_type": "stream",
          "name": "stdout",
          "text": [
            "Looking in indexes: https://pypi.org/simple, https://us-python.pkg.dev/colab-wheels/public/simple/\n",
            "Requirement already satisfied: scikit-fuzzy in /usr/local/lib/python3.9/dist-packages (0.4.2)\n",
            "Requirement already satisfied: numpy>=1.6.0 in /usr/local/lib/python3.9/dist-packages (from scikit-fuzzy) (1.22.4)\n",
            "Requirement already satisfied: scipy>=0.9.0 in /usr/local/lib/python3.9/dist-packages (from scikit-fuzzy) (1.10.1)\n",
            "Requirement already satisfied: networkx>=1.9.0 in /usr/local/lib/python3.9/dist-packages (from scikit-fuzzy) (3.1)\n"
          ]
        }
      ],
      "source": [
        "!pip install scikit-fuzzy\n",
        "import numpy as np\n",
        "import skfuzzy as fuzz\n",
        "from skfuzzy import control as ctrl\n",
        "import pandas as pd"
      ]
    },
    {
      "cell_type": "code",
      "source": [
        "# inisialisasi variabel input\n",
        "ipk = ctrl.Antecedent(np.arange(0, 4.5, 0.5), 'ipk')\n",
        "perilaku = ctrl.Antecedent(np.arange(0, 101, 1), 'perilaku')\n",
        "keputusan = ctrl.Consequent(np.arange(0, 101, 1), 'keputusan')"
      ],
      "metadata": {
        "id": "eoYh_36y8KKC"
      },
      "execution_count": 15,
      "outputs": []
    },
    {
      "cell_type": "code",
      "source": [
        "# fungsi keanggotaan untuk variabel input \"ipk\"\n",
        "ipk['buruk'] = fuzz.trapmf(ipk.universe, [0, 0, 2, 2.5])\n",
        "ipk['cukup'] = fuzz.trimf(ipk.universe, [2, 3, 3.5])\n",
        "ipk['baik'] = fuzz.trapmf(ipk.universe, [3, 3.5, 4.5, 4.5])\n",
        "\n",
        "# fungsi keanggotaan untuk variabel input \"perilaku\"\n",
        "perilaku['buruk'] = fuzz.trapmf(perilaku.universe, [0, 0, 50, 65])\n",
        "perilaku['cukup'] = fuzz.trimf(perilaku.universe, [50, 75, 100])\n",
        "perilaku['baik'] = fuzz.trapmf(perilaku.universe, [65, 75, 100, 100])"
      ],
      "metadata": {
        "id": "YANJ7sPb8Oqr"
      },
      "execution_count": 16,
      "outputs": []
    },
    {
      "cell_type": "code",
      "source": [
        "# fungsi keanggotaan untuk variabel output \"keputusan\"\n",
        "keputusan['rendah'] = fuzz.trapmf(keputusan.universe, [0, 0, 50, 65])\n",
        "keputusan['sedang'] = fuzz.trimf(keputusan.universe, [50, 75, 100])\n",
        "keputusan['tinggi'] = fuzz.trapmf(keputusan.universe, [65, 75, 100, 100])\n",
        "\n",
        "# membuat aturan fuzzy dengan menggunakan control system\n",
        "rule1 = ctrl.Rule(ipk['buruk'] | perilaku['buruk'], keputusan['rendah'])\n",
        "rule2 = ctrl.Rule(ipk['cukup'] & perilaku['cukup'], keputusan['sedang'])\n",
        "rule3 = ctrl.Rule(ipk['baik'] | perilaku['baik'], keputusan['tinggi'])\n",
        "\n",
        "# membuat control system\n",
        "keputusan_ctrl = ctrl.ControlSystem([rule1, rule2, rule3])"
      ],
      "metadata": {
        "id": "9ShsmpQC-nU_"
      },
      "execution_count": 17,
      "outputs": []
    },
    {
      "cell_type": "code",
      "source": [
        "# melakukan simulasi untuk setiap data pada dataframe\n",
        "df = pd.DataFrame({\n",
        "    'Nama': ['Budi Sugianto', 'Ria Purwani', 'Dian Aprianti'],\n",
        "    'IPK': [3.4, 3.7, 3.0],\n",
        "    'Perilaku': [85, 65, 65]\n",
        "})\n",
        "df"
      ],
      "metadata": {
        "id": "bZfmFVwm-qFa",
        "colab": {
          "base_uri": "https://localhost:8080/",
          "height": 143
        },
        "outputId": "19878c9d-8a95-4f10-9181-69264e18feb6"
      },
      "execution_count": 18,
      "outputs": [
        {
          "output_type": "execute_result",
          "data": {
            "text/plain": [
              "            Nama  IPK  Perilaku\n",
              "0  Budi Sugianto  3.4        85\n",
              "1    Ria Purwani  3.7        65\n",
              "2  Dian Aprianti  3.0        65"
            ],
            "text/html": [
              "\n",
              "  <div id=\"df-af47a471-2857-4b86-b026-6c17807962aa\">\n",
              "    <div class=\"colab-df-container\">\n",
              "      <div>\n",
              "<style scoped>\n",
              "    .dataframe tbody tr th:only-of-type {\n",
              "        vertical-align: middle;\n",
              "    }\n",
              "\n",
              "    .dataframe tbody tr th {\n",
              "        vertical-align: top;\n",
              "    }\n",
              "\n",
              "    .dataframe thead th {\n",
              "        text-align: right;\n",
              "    }\n",
              "</style>\n",
              "<table border=\"1\" class=\"dataframe\">\n",
              "  <thead>\n",
              "    <tr style=\"text-align: right;\">\n",
              "      <th></th>\n",
              "      <th>Nama</th>\n",
              "      <th>IPK</th>\n",
              "      <th>Perilaku</th>\n",
              "    </tr>\n",
              "  </thead>\n",
              "  <tbody>\n",
              "    <tr>\n",
              "      <th>0</th>\n",
              "      <td>Budi Sugianto</td>\n",
              "      <td>3.4</td>\n",
              "      <td>85</td>\n",
              "    </tr>\n",
              "    <tr>\n",
              "      <th>1</th>\n",
              "      <td>Ria Purwani</td>\n",
              "      <td>3.7</td>\n",
              "      <td>65</td>\n",
              "    </tr>\n",
              "    <tr>\n",
              "      <th>2</th>\n",
              "      <td>Dian Aprianti</td>\n",
              "      <td>3.0</td>\n",
              "      <td>65</td>\n",
              "    </tr>\n",
              "  </tbody>\n",
              "</table>\n",
              "</div>\n",
              "      <button class=\"colab-df-convert\" onclick=\"convertToInteractive('df-af47a471-2857-4b86-b026-6c17807962aa')\"\n",
              "              title=\"Convert this dataframe to an interactive table.\"\n",
              "              style=\"display:none;\">\n",
              "        \n",
              "  <svg xmlns=\"http://www.w3.org/2000/svg\" height=\"24px\"viewBox=\"0 0 24 24\"\n",
              "       width=\"24px\">\n",
              "    <path d=\"M0 0h24v24H0V0z\" fill=\"none\"/>\n",
              "    <path d=\"M18.56 5.44l.94 2.06.94-2.06 2.06-.94-2.06-.94-.94-2.06-.94 2.06-2.06.94zm-11 1L8.5 8.5l.94-2.06 2.06-.94-2.06-.94L8.5 2.5l-.94 2.06-2.06.94zm10 10l.94 2.06.94-2.06 2.06-.94-2.06-.94-.94-2.06-.94 2.06-2.06.94z\"/><path d=\"M17.41 7.96l-1.37-1.37c-.4-.4-.92-.59-1.43-.59-.52 0-1.04.2-1.43.59L10.3 9.45l-7.72 7.72c-.78.78-.78 2.05 0 2.83L4 21.41c.39.39.9.59 1.41.59.51 0 1.02-.2 1.41-.59l7.78-7.78 2.81-2.81c.8-.78.8-2.07 0-2.86zM5.41 20L4 18.59l7.72-7.72 1.47 1.35L5.41 20z\"/>\n",
              "  </svg>\n",
              "      </button>\n",
              "      \n",
              "  <style>\n",
              "    .colab-df-container {\n",
              "      display:flex;\n",
              "      flex-wrap:wrap;\n",
              "      gap: 12px;\n",
              "    }\n",
              "\n",
              "    .colab-df-convert {\n",
              "      background-color: #E8F0FE;\n",
              "      border: none;\n",
              "      border-radius: 50%;\n",
              "      cursor: pointer;\n",
              "      display: none;\n",
              "      fill: #1967D2;\n",
              "      height: 32px;\n",
              "      padding: 0 0 0 0;\n",
              "      width: 32px;\n",
              "    }\n",
              "\n",
              "    .colab-df-convert:hover {\n",
              "      background-color: #E2EBFA;\n",
              "      box-shadow: 0px 1px 2px rgba(60, 64, 67, 0.3), 0px 1px 3px 1px rgba(60, 64, 67, 0.15);\n",
              "      fill: #174EA6;\n",
              "    }\n",
              "\n",
              "    [theme=dark] .colab-df-convert {\n",
              "      background-color: #3B4455;\n",
              "      fill: #D2E3FC;\n",
              "    }\n",
              "\n",
              "    [theme=dark] .colab-df-convert:hover {\n",
              "      background-color: #434B5C;\n",
              "      box-shadow: 0px 1px 3px 1px rgba(0, 0, 0, 0.15);\n",
              "      filter: drop-shadow(0px 1px 2px rgba(0, 0, 0, 0.3));\n",
              "      fill: #FFFFFF;\n",
              "    }\n",
              "  </style>\n",
              "\n",
              "      <script>\n",
              "        const buttonEl =\n",
              "          document.querySelector('#df-af47a471-2857-4b86-b026-6c17807962aa button.colab-df-convert');\n",
              "        buttonEl.style.display =\n",
              "          google.colab.kernel.accessAllowed ? 'block' : 'none';\n",
              "\n",
              "        async function convertToInteractive(key) {\n",
              "          const element = document.querySelector('#df-af47a471-2857-4b86-b026-6c17807962aa');\n",
              "          const dataTable =\n",
              "            await google.colab.kernel.invokeFunction('convertToInteractive',\n",
              "                                                     [key], {});\n",
              "          if (!dataTable) return;\n",
              "\n",
              "          const docLinkHtml = 'Like what you see? Visit the ' +\n",
              "            '<a target=\"_blank\" href=https://colab.research.google.com/notebooks/data_table.ipynb>data table notebook</a>'\n",
              "            + ' to learn more about interactive tables.';\n",
              "          element.innerHTML = '';\n",
              "          dataTable['output_type'] = 'display_data';\n",
              "          await google.colab.output.renderOutput(dataTable, element);\n",
              "          const docLink = document.createElement('div');\n",
              "          docLink.innerHTML = docLinkHtml;\n",
              "          element.appendChild(docLink);\n",
              "        }\n",
              "      </script>\n",
              "    </div>\n",
              "  </div>\n",
              "  "
            ]
          },
          "metadata": {},
          "execution_count": 18
        }
      ]
    },
    {
      "cell_type": "code",
      "source": [
        "for i, row in df.iterrows():\n",
        "    keputusan_simulasi = ctrl.ControlSystemSimulation(keputusan_ctrl)\n",
        "    keputusan_simulasi.input['ipk'] = row['IPK']\n",
        "    keputusan_simulasi.input['perilaku'] = row['Perilaku']\n",
        "    keputusan_simulasi.compute()\n",
        "    df.loc[i, 'Keputusan'] = keputusan_simulasi.output['keputusan']\n",
        "\n",
        "# menampilkan hasil keputusan untuk setiap data\n",
        "df"
      ],
      "metadata": {
        "colab": {
          "base_uri": "https://localhost:8080/",
          "height": 143
        },
        "id": "lhPt-7a0ACOY",
        "outputId": "fd46a883-7f16-442a-ae01-83bf8185d8e8"
      },
      "execution_count": 19,
      "outputs": [
        {
          "output_type": "execute_result",
          "data": {
            "text/plain": [
              "            Nama  IPK  Perilaku  Keputusan\n",
              "0  Budi Sugianto  3.4        85  82.741081\n",
              "1    Ria Purwani  3.7        65  84.861111\n",
              "2  Dian Aprianti  3.0        65  75.000000"
            ],
            "text/html": [
              "\n",
              "  <div id=\"df-f7bcbe2e-fb9c-4f3b-a122-d9a6db727721\">\n",
              "    <div class=\"colab-df-container\">\n",
              "      <div>\n",
              "<style scoped>\n",
              "    .dataframe tbody tr th:only-of-type {\n",
              "        vertical-align: middle;\n",
              "    }\n",
              "\n",
              "    .dataframe tbody tr th {\n",
              "        vertical-align: top;\n",
              "    }\n",
              "\n",
              "    .dataframe thead th {\n",
              "        text-align: right;\n",
              "    }\n",
              "</style>\n",
              "<table border=\"1\" class=\"dataframe\">\n",
              "  <thead>\n",
              "    <tr style=\"text-align: right;\">\n",
              "      <th></th>\n",
              "      <th>Nama</th>\n",
              "      <th>IPK</th>\n",
              "      <th>Perilaku</th>\n",
              "      <th>Keputusan</th>\n",
              "    </tr>\n",
              "  </thead>\n",
              "  <tbody>\n",
              "    <tr>\n",
              "      <th>0</th>\n",
              "      <td>Budi Sugianto</td>\n",
              "      <td>3.4</td>\n",
              "      <td>85</td>\n",
              "      <td>82.741081</td>\n",
              "    </tr>\n",
              "    <tr>\n",
              "      <th>1</th>\n",
              "      <td>Ria Purwani</td>\n",
              "      <td>3.7</td>\n",
              "      <td>65</td>\n",
              "      <td>84.861111</td>\n",
              "    </tr>\n",
              "    <tr>\n",
              "      <th>2</th>\n",
              "      <td>Dian Aprianti</td>\n",
              "      <td>3.0</td>\n",
              "      <td>65</td>\n",
              "      <td>75.000000</td>\n",
              "    </tr>\n",
              "  </tbody>\n",
              "</table>\n",
              "</div>\n",
              "      <button class=\"colab-df-convert\" onclick=\"convertToInteractive('df-f7bcbe2e-fb9c-4f3b-a122-d9a6db727721')\"\n",
              "              title=\"Convert this dataframe to an interactive table.\"\n",
              "              style=\"display:none;\">\n",
              "        \n",
              "  <svg xmlns=\"http://www.w3.org/2000/svg\" height=\"24px\"viewBox=\"0 0 24 24\"\n",
              "       width=\"24px\">\n",
              "    <path d=\"M0 0h24v24H0V0z\" fill=\"none\"/>\n",
              "    <path d=\"M18.56 5.44l.94 2.06.94-2.06 2.06-.94-2.06-.94-.94-2.06-.94 2.06-2.06.94zm-11 1L8.5 8.5l.94-2.06 2.06-.94-2.06-.94L8.5 2.5l-.94 2.06-2.06.94zm10 10l.94 2.06.94-2.06 2.06-.94-2.06-.94-.94-2.06-.94 2.06-2.06.94z\"/><path d=\"M17.41 7.96l-1.37-1.37c-.4-.4-.92-.59-1.43-.59-.52 0-1.04.2-1.43.59L10.3 9.45l-7.72 7.72c-.78.78-.78 2.05 0 2.83L4 21.41c.39.39.9.59 1.41.59.51 0 1.02-.2 1.41-.59l7.78-7.78 2.81-2.81c.8-.78.8-2.07 0-2.86zM5.41 20L4 18.59l7.72-7.72 1.47 1.35L5.41 20z\"/>\n",
              "  </svg>\n",
              "      </button>\n",
              "      \n",
              "  <style>\n",
              "    .colab-df-container {\n",
              "      display:flex;\n",
              "      flex-wrap:wrap;\n",
              "      gap: 12px;\n",
              "    }\n",
              "\n",
              "    .colab-df-convert {\n",
              "      background-color: #E8F0FE;\n",
              "      border: none;\n",
              "      border-radius: 50%;\n",
              "      cursor: pointer;\n",
              "      display: none;\n",
              "      fill: #1967D2;\n",
              "      height: 32px;\n",
              "      padding: 0 0 0 0;\n",
              "      width: 32px;\n",
              "    }\n",
              "\n",
              "    .colab-df-convert:hover {\n",
              "      background-color: #E2EBFA;\n",
              "      box-shadow: 0px 1px 2px rgba(60, 64, 67, 0.3), 0px 1px 3px 1px rgba(60, 64, 67, 0.15);\n",
              "      fill: #174EA6;\n",
              "    }\n",
              "\n",
              "    [theme=dark] .colab-df-convert {\n",
              "      background-color: #3B4455;\n",
              "      fill: #D2E3FC;\n",
              "    }\n",
              "\n",
              "    [theme=dark] .colab-df-convert:hover {\n",
              "      background-color: #434B5C;\n",
              "      box-shadow: 0px 1px 3px 1px rgba(0, 0, 0, 0.15);\n",
              "      filter: drop-shadow(0px 1px 2px rgba(0, 0, 0, 0.3));\n",
              "      fill: #FFFFFF;\n",
              "    }\n",
              "  </style>\n",
              "\n",
              "      <script>\n",
              "        const buttonEl =\n",
              "          document.querySelector('#df-f7bcbe2e-fb9c-4f3b-a122-d9a6db727721 button.colab-df-convert');\n",
              "        buttonEl.style.display =\n",
              "          google.colab.kernel.accessAllowed ? 'block' : 'none';\n",
              "\n",
              "        async function convertToInteractive(key) {\n",
              "          const element = document.querySelector('#df-f7bcbe2e-fb9c-4f3b-a122-d9a6db727721');\n",
              "          const dataTable =\n",
              "            await google.colab.kernel.invokeFunction('convertToInteractive',\n",
              "                                                     [key], {});\n",
              "          if (!dataTable) return;\n",
              "\n",
              "          const docLinkHtml = 'Like what you see? Visit the ' +\n",
              "            '<a target=\"_blank\" href=https://colab.research.google.com/notebooks/data_table.ipynb>data table notebook</a>'\n",
              "            + ' to learn more about interactive tables.';\n",
              "          element.innerHTML = '';\n",
              "          dataTable['output_type'] = 'display_data';\n",
              "          await google.colab.output.renderOutput(dataTable, element);\n",
              "          const docLink = document.createElement('div');\n",
              "          docLink.innerHTML = docLinkHtml;\n",
              "          element.appendChild(docLink);\n",
              "        }\n",
              "      </script>\n",
              "    </div>\n",
              "  </div>\n",
              "  "
            ]
          },
          "metadata": {},
          "execution_count": 19
        }
      ]
    }
  ]
}