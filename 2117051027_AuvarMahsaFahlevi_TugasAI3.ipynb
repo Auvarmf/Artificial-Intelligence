{
  "nbformat": 4,
  "nbformat_minor": 0,
  "metadata": {
    "colab": {
      "provenance": [],
      "authorship_tag": "ABX9TyMPeU6Ew+RE5voTx8B/tbtU",
      "include_colab_link": true
    },
    "kernelspec": {
      "name": "python3",
      "display_name": "Python 3"
    },
    "language_info": {
      "name": "python"
    }
  },
  "cells": [
    {
      "cell_type": "markdown",
      "metadata": {
        "id": "view-in-github",
        "colab_type": "text"
      },
      "source": [
        "<a href=\"https://colab.research.google.com/github/Auvarmf/Artificial-Intelligence/blob/main/2117051027_AuvarMahsaFahlevi_TugasAI3.ipynb\" target=\"_parent\"><img src=\"https://colab.research.google.com/assets/colab-badge.svg\" alt=\"Open In Colab\"/></a>"
      ]
    },
    {
      "cell_type": "markdown",
      "source": [
        "# Analytic Hierarchy Process (AHP)\n",
        "\n",
        "Membuat program untuk menentukan driver F1 mana yang terbaik dengan menggunakan Practical Implementation of Analytic Hierarchy Process (AHP)\n",
        "\n",
        "\n",
        "\n",
        "---\n",
        "\n",
        "Nama : Auvar Mahsa Fahlevi\n",
        "\n",
        "NPM : 2117051027\n",
        "\n",
        "Kelas : B"
      ],
      "metadata": {
        "id": "_FXaVL85rdkw"
      }
    },
    {
      "cell_type": "markdown",
      "source": [
        "## Library"
      ],
      "metadata": {
        "id": "EjA1Su49sLCC"
      }
    },
    {
      "cell_type": "code",
      "source": [
        "import numpy as np\n",
        "import pandas as pd\n",
        "from sklearn.preprocessing import normalize"
      ],
      "metadata": {
        "id": "i1F0hpr0sNlS"
      },
      "execution_count": null,
      "outputs": []
    },
    {
      "cell_type": "code",
      "source": [
        "# Fungsi untuk menghitung prioritas berdasarkan faktor penilaian\n",
        "def calc_prior(features, total_point):\n",
        "    n = len(features[0])\n",
        "    ahp_matrix = np.ones([n, n])\n",
        "\n",
        "    # Membangun matriks AHP\n",
        "    for i in range(0, n):  # baris\n",
        "        for j in range(0, n):  # kolom\n",
        "            if(i < j):\n",
        "                if(i == 0):\n",
        "\n",
        "                    # Menentukan bobot dari faktor penilaian pertama\n",
        "                    ahp_matrix[i, j] = float(features[1][j-1])\n",
        "                    ahp_matrix[j, i] = float(1/features[1][j-1])\n",
        "                else:\n",
        "\n",
        "                    # Menentukan bobot relatif antar faktor penilaian\n",
        "                    if(ahp_matrix[0, j] < ahp_matrix[0, i]):\n",
        "                        ahp_matrix[i, j] = float(1/((ahp_matrix[0, i] - ahp_matrix[0, j]) + 1))\n",
        "                    else:\n",
        "                        ahp_matrix[i, j] = float((ahp_matrix[0, j] - ahp_matrix[0, i]) + 1)\n",
        "                    ahp_matrix[j, i] = float(1/ahp_matrix[i, j])\n",
        "\n",
        "    # Normalisasi matriks AHP\n",
        "    normalized_matrix = normalize(ahp_matrix, axis=0, norm=\"l1\")\n",
        "    weight = normalized_matrix.mean(1)\n",
        "\n",
        "    # Menghitung skor berdasarkan bobot\n",
        "    points = total_point * weight\n",
        "\n",
        "    return dict(zip(features[0], points))"
      ],
      "metadata": {
        "id": "NrtbRCVns5b8"
      },
      "execution_count": null,
      "outputs": []
    },
    {
      "cell_type": "code",
      "source": [
        "# Daftar pembalap dan faktor penilaian\n",
        "drivers = ['Lewis Hamilton', 'George Russell', 'Mick Schumacher']\n",
        "factors = ['Experience', 'Skills', 'Consistency', 'Age']\n",
        "\n",
        "# Menghitung prioritas untuk faktor penilaian utama\n",
        "main_dict = calc_prior([factors, [4, 3, 7, 2]], 1)\n",
        "main_dict"
      ],
      "metadata": {
        "colab": {
          "base_uri": "https://localhost:8080/"
        },
        "id": "7bgX0mYmtT7W",
        "outputId": "01cacad9-96aa-4fdb-e168-804729a93700"
      },
      "execution_count": null,
      "outputs": [
        {
          "output_type": "execute_result",
          "data": {
            "text/plain": [
              "{'Experience': 0.5452742652453497,\n",
              " 'Skills': 0.15610892926502956,\n",
              " 'Consistency': 0.24396228043675283,\n",
              " 'Age': 0.0546545250528678}"
            ]
          },
          "metadata": {},
          "execution_count": 3
        }
      ]
    },
    {
      "cell_type": "code",
      "execution_count": null,
      "metadata": {
        "id": "2Biw3M5od_bK"
      },
      "outputs": [],
      "source": [
        "# Menghitung prioritas untuk setiap faktor penilaian dari setiap pembalap\n",
        "exp_dict = calc_prior([drivers, [4, 9, 1]], 1)\n",
        "skl_dict = calc_prior([drivers, [1, 7, 9]], 1)\n",
        "consy_dict = calc_prior([drivers, [9, 1, 7]], 1)\n",
        "age_dict = calc_prior([drivers, [3, 1, 9]], 1)"
      ]
    },
    {
      "cell_type": "code",
      "source": [
        "# Membuat dataframe untuk menampilkan hasil prioritas\n",
        "df = pd.DataFrame([exp_dict, skl_dict, consy_dict, age_dict])\n",
        "df.index = factors\n",
        "df"
      ],
      "metadata": {
        "colab": {
          "base_uri": "https://localhost:8080/",
          "height": 175
        },
        "id": "JA5gP-FwOdP_",
        "outputId": "08c0ff17-e9f9-4296-82e9-42d47367c8a7"
      },
      "execution_count": null,
      "outputs": [
        {
          "output_type": "execute_result",
          "data": {
            "text/plain": [
              "             Lewis Hamilton  George Russell  Mick Schumacher\n",
              "Experience         0.690462        0.250741         0.058797\n",
              "Skills             0.466667        0.466667         0.066667\n",
              "Consistency        0.473684        0.052632         0.473684\n",
              "Age                0.428571        0.142857         0.428571"
            ],
            "text/html": [
              "\n",
              "  <div id=\"df-289ad762-8d28-41b4-95c7-9acd9ec794bd\">\n",
              "    <div class=\"colab-df-container\">\n",
              "      <div>\n",
              "<style scoped>\n",
              "    .dataframe tbody tr th:only-of-type {\n",
              "        vertical-align: middle;\n",
              "    }\n",
              "\n",
              "    .dataframe tbody tr th {\n",
              "        vertical-align: top;\n",
              "    }\n",
              "\n",
              "    .dataframe thead th {\n",
              "        text-align: right;\n",
              "    }\n",
              "</style>\n",
              "<table border=\"1\" class=\"dataframe\">\n",
              "  <thead>\n",
              "    <tr style=\"text-align: right;\">\n",
              "      <th></th>\n",
              "      <th>Lewis Hamilton</th>\n",
              "      <th>George Russell</th>\n",
              "      <th>Mick Schumacher</th>\n",
              "    </tr>\n",
              "  </thead>\n",
              "  <tbody>\n",
              "    <tr>\n",
              "      <th>Experience</th>\n",
              "      <td>0.690462</td>\n",
              "      <td>0.250741</td>\n",
              "      <td>0.058797</td>\n",
              "    </tr>\n",
              "    <tr>\n",
              "      <th>Skills</th>\n",
              "      <td>0.466667</td>\n",
              "      <td>0.466667</td>\n",
              "      <td>0.066667</td>\n",
              "    </tr>\n",
              "    <tr>\n",
              "      <th>Consistency</th>\n",
              "      <td>0.473684</td>\n",
              "      <td>0.052632</td>\n",
              "      <td>0.473684</td>\n",
              "    </tr>\n",
              "    <tr>\n",
              "      <th>Age</th>\n",
              "      <td>0.428571</td>\n",
              "      <td>0.142857</td>\n",
              "      <td>0.428571</td>\n",
              "    </tr>\n",
              "  </tbody>\n",
              "</table>\n",
              "</div>\n",
              "      <button class=\"colab-df-convert\" onclick=\"convertToInteractive('df-289ad762-8d28-41b4-95c7-9acd9ec794bd')\"\n",
              "              title=\"Convert this dataframe to an interactive table.\"\n",
              "              style=\"display:none;\">\n",
              "        \n",
              "  <svg xmlns=\"http://www.w3.org/2000/svg\" height=\"24px\"viewBox=\"0 0 24 24\"\n",
              "       width=\"24px\">\n",
              "    <path d=\"M0 0h24v24H0V0z\" fill=\"none\"/>\n",
              "    <path d=\"M18.56 5.44l.94 2.06.94-2.06 2.06-.94-2.06-.94-.94-2.06-.94 2.06-2.06.94zm-11 1L8.5 8.5l.94-2.06 2.06-.94-2.06-.94L8.5 2.5l-.94 2.06-2.06.94zm10 10l.94 2.06.94-2.06 2.06-.94-2.06-.94-.94-2.06-.94 2.06-2.06.94z\"/><path d=\"M17.41 7.96l-1.37-1.37c-.4-.4-.92-.59-1.43-.59-.52 0-1.04.2-1.43.59L10.3 9.45l-7.72 7.72c-.78.78-.78 2.05 0 2.83L4 21.41c.39.39.9.59 1.41.59.51 0 1.02-.2 1.41-.59l7.78-7.78 2.81-2.81c.8-.78.8-2.07 0-2.86zM5.41 20L4 18.59l7.72-7.72 1.47 1.35L5.41 20z\"/>\n",
              "  </svg>\n",
              "      </button>\n",
              "      \n",
              "  <style>\n",
              "    .colab-df-container {\n",
              "      display:flex;\n",
              "      flex-wrap:wrap;\n",
              "      gap: 12px;\n",
              "    }\n",
              "\n",
              "    .colab-df-convert {\n",
              "      background-color: #E8F0FE;\n",
              "      border: none;\n",
              "      border-radius: 50%;\n",
              "      cursor: pointer;\n",
              "      display: none;\n",
              "      fill: #1967D2;\n",
              "      height: 32px;\n",
              "      padding: 0 0 0 0;\n",
              "      width: 32px;\n",
              "    }\n",
              "\n",
              "    .colab-df-convert:hover {\n",
              "      background-color: #E2EBFA;\n",
              "      box-shadow: 0px 1px 2px rgba(60, 64, 67, 0.3), 0px 1px 3px 1px rgba(60, 64, 67, 0.15);\n",
              "      fill: #174EA6;\n",
              "    }\n",
              "\n",
              "    [theme=dark] .colab-df-convert {\n",
              "      background-color: #3B4455;\n",
              "      fill: #D2E3FC;\n",
              "    }\n",
              "\n",
              "    [theme=dark] .colab-df-convert:hover {\n",
              "      background-color: #434B5C;\n",
              "      box-shadow: 0px 1px 3px 1px rgba(0, 0, 0, 0.15);\n",
              "      filter: drop-shadow(0px 1px 2px rgba(0, 0, 0, 0.3));\n",
              "      fill: #FFFFFF;\n",
              "    }\n",
              "  </style>\n",
              "\n",
              "      <script>\n",
              "        const buttonEl =\n",
              "          document.querySelector('#df-289ad762-8d28-41b4-95c7-9acd9ec794bd button.colab-df-convert');\n",
              "        buttonEl.style.display =\n",
              "          google.colab.kernel.accessAllowed ? 'block' : 'none';\n",
              "\n",
              "        async function convertToInteractive(key) {\n",
              "          const element = document.querySelector('#df-289ad762-8d28-41b4-95c7-9acd9ec794bd');\n",
              "          const dataTable =\n",
              "            await google.colab.kernel.invokeFunction('convertToInteractive',\n",
              "                                                     [key], {});\n",
              "          if (!dataTable) return;\n",
              "\n",
              "          const docLinkHtml = 'Like what you see? Visit the ' +\n",
              "            '<a target=\"_blank\" href=https://colab.research.google.com/notebooks/data_table.ipynb>data table notebook</a>'\n",
              "            + ' to learn more about interactive tables.';\n",
              "          element.innerHTML = '';\n",
              "          dataTable['output_type'] = 'display_data';\n",
              "          await google.colab.output.renderOutput(dataTable, element);\n",
              "          const docLink = document.createElement('div');\n",
              "          docLink.innerHTML = docLinkHtml;\n",
              "          element.appendChild(docLink);\n",
              "        }\n",
              "      </script>\n",
              "    </div>\n",
              "  </div>\n",
              "  "
            ]
          },
          "metadata": {},
          "execution_count": 5
        }
      ]
    },
    {
      "cell_type": "code",
      "source": [
        "# Menghitung total skor dari setiap faktor penilaian\n",
        "total = df.sum()\n",
        "total.name = 'Total Score'\n",
        "df = pd.concat([df, total.to_frame().T])\n",
        "\n",
        "# Menentukan pembalap F1 dengan skor terbaik\n",
        "best_driver = df[drivers].idxmax(axis=1)[0]\n",
        "\n",
        "# Menampilkan dataframe\n",
        "df"
      ],
      "metadata": {
        "colab": {
          "base_uri": "https://localhost:8080/",
          "height": 206
        },
        "id": "C4evZlEpteZg",
        "outputId": "3433179f-59e9-4340-e6e7-bc64f5ea56c8"
      },
      "execution_count": null,
      "outputs": [
        {
          "output_type": "execute_result",
          "data": {
            "text/plain": [
              "             Lewis Hamilton  George Russell  Mick Schumacher\n",
              "Experience         0.690462        0.250741         0.058797\n",
              "Skills             0.466667        0.466667         0.066667\n",
              "Consistency        0.473684        0.052632         0.473684\n",
              "Age                0.428571        0.142857         0.428571\n",
              "Total Score        2.059385        0.912896         1.027719"
            ],
            "text/html": [
              "\n",
              "  <div id=\"df-416e39d0-e541-4995-aafc-95056e11f62e\">\n",
              "    <div class=\"colab-df-container\">\n",
              "      <div>\n",
              "<style scoped>\n",
              "    .dataframe tbody tr th:only-of-type {\n",
              "        vertical-align: middle;\n",
              "    }\n",
              "\n",
              "    .dataframe tbody tr th {\n",
              "        vertical-align: top;\n",
              "    }\n",
              "\n",
              "    .dataframe thead th {\n",
              "        text-align: right;\n",
              "    }\n",
              "</style>\n",
              "<table border=\"1\" class=\"dataframe\">\n",
              "  <thead>\n",
              "    <tr style=\"text-align: right;\">\n",
              "      <th></th>\n",
              "      <th>Lewis Hamilton</th>\n",
              "      <th>George Russell</th>\n",
              "      <th>Mick Schumacher</th>\n",
              "    </tr>\n",
              "  </thead>\n",
              "  <tbody>\n",
              "    <tr>\n",
              "      <th>Experience</th>\n",
              "      <td>0.690462</td>\n",
              "      <td>0.250741</td>\n",
              "      <td>0.058797</td>\n",
              "    </tr>\n",
              "    <tr>\n",
              "      <th>Skills</th>\n",
              "      <td>0.466667</td>\n",
              "      <td>0.466667</td>\n",
              "      <td>0.066667</td>\n",
              "    </tr>\n",
              "    <tr>\n",
              "      <th>Consistency</th>\n",
              "      <td>0.473684</td>\n",
              "      <td>0.052632</td>\n",
              "      <td>0.473684</td>\n",
              "    </tr>\n",
              "    <tr>\n",
              "      <th>Age</th>\n",
              "      <td>0.428571</td>\n",
              "      <td>0.142857</td>\n",
              "      <td>0.428571</td>\n",
              "    </tr>\n",
              "    <tr>\n",
              "      <th>Total Score</th>\n",
              "      <td>2.059385</td>\n",
              "      <td>0.912896</td>\n",
              "      <td>1.027719</td>\n",
              "    </tr>\n",
              "  </tbody>\n",
              "</table>\n",
              "</div>\n",
              "      <button class=\"colab-df-convert\" onclick=\"convertToInteractive('df-416e39d0-e541-4995-aafc-95056e11f62e')\"\n",
              "              title=\"Convert this dataframe to an interactive table.\"\n",
              "              style=\"display:none;\">\n",
              "        \n",
              "  <svg xmlns=\"http://www.w3.org/2000/svg\" height=\"24px\"viewBox=\"0 0 24 24\"\n",
              "       width=\"24px\">\n",
              "    <path d=\"M0 0h24v24H0V0z\" fill=\"none\"/>\n",
              "    <path d=\"M18.56 5.44l.94 2.06.94-2.06 2.06-.94-2.06-.94-.94-2.06-.94 2.06-2.06.94zm-11 1L8.5 8.5l.94-2.06 2.06-.94-2.06-.94L8.5 2.5l-.94 2.06-2.06.94zm10 10l.94 2.06.94-2.06 2.06-.94-2.06-.94-.94-2.06-.94 2.06-2.06.94z\"/><path d=\"M17.41 7.96l-1.37-1.37c-.4-.4-.92-.59-1.43-.59-.52 0-1.04.2-1.43.59L10.3 9.45l-7.72 7.72c-.78.78-.78 2.05 0 2.83L4 21.41c.39.39.9.59 1.41.59.51 0 1.02-.2 1.41-.59l7.78-7.78 2.81-2.81c.8-.78.8-2.07 0-2.86zM5.41 20L4 18.59l7.72-7.72 1.47 1.35L5.41 20z\"/>\n",
              "  </svg>\n",
              "      </button>\n",
              "      \n",
              "  <style>\n",
              "    .colab-df-container {\n",
              "      display:flex;\n",
              "      flex-wrap:wrap;\n",
              "      gap: 12px;\n",
              "    }\n",
              "\n",
              "    .colab-df-convert {\n",
              "      background-color: #E8F0FE;\n",
              "      border: none;\n",
              "      border-radius: 50%;\n",
              "      cursor: pointer;\n",
              "      display: none;\n",
              "      fill: #1967D2;\n",
              "      height: 32px;\n",
              "      padding: 0 0 0 0;\n",
              "      width: 32px;\n",
              "    }\n",
              "\n",
              "    .colab-df-convert:hover {\n",
              "      background-color: #E2EBFA;\n",
              "      box-shadow: 0px 1px 2px rgba(60, 64, 67, 0.3), 0px 1px 3px 1px rgba(60, 64, 67, 0.15);\n",
              "      fill: #174EA6;\n",
              "    }\n",
              "\n",
              "    [theme=dark] .colab-df-convert {\n",
              "      background-color: #3B4455;\n",
              "      fill: #D2E3FC;\n",
              "    }\n",
              "\n",
              "    [theme=dark] .colab-df-convert:hover {\n",
              "      background-color: #434B5C;\n",
              "      box-shadow: 0px 1px 3px 1px rgba(0, 0, 0, 0.15);\n",
              "      filter: drop-shadow(0px 1px 2px rgba(0, 0, 0, 0.3));\n",
              "      fill: #FFFFFF;\n",
              "    }\n",
              "  </style>\n",
              "\n",
              "      <script>\n",
              "        const buttonEl =\n",
              "          document.querySelector('#df-416e39d0-e541-4995-aafc-95056e11f62e button.colab-df-convert');\n",
              "        buttonEl.style.display =\n",
              "          google.colab.kernel.accessAllowed ? 'block' : 'none';\n",
              "\n",
              "        async function convertToInteractive(key) {\n",
              "          const element = document.querySelector('#df-416e39d0-e541-4995-aafc-95056e11f62e');\n",
              "          const dataTable =\n",
              "            await google.colab.kernel.invokeFunction('convertToInteractive',\n",
              "                                                     [key], {});\n",
              "          if (!dataTable) return;\n",
              "\n",
              "          const docLinkHtml = 'Like what you see? Visit the ' +\n",
              "            '<a target=\"_blank\" href=https://colab.research.google.com/notebooks/data_table.ipynb>data table notebook</a>'\n",
              "            + ' to learn more about interactive tables.';\n",
              "          element.innerHTML = '';\n",
              "          dataTable['output_type'] = 'display_data';\n",
              "          await google.colab.output.renderOutput(dataTable, element);\n",
              "          const docLink = document.createElement('div');\n",
              "          docLink.innerHTML = docLinkHtml;\n",
              "          element.appendChild(docLink);\n",
              "        }\n",
              "      </script>\n",
              "    </div>\n",
              "  </div>\n",
              "  "
            ]
          },
          "metadata": {},
          "execution_count": 6
        }
      ]
    },
    {
      "cell_type": "code",
      "source": [
        "# Menampilkan keterangan Pembalap terbaik\n",
        "print(\"Pembalap F1 terbaik adalah\", best_driver)"
      ],
      "metadata": {
        "colab": {
          "base_uri": "https://localhost:8080/"
        },
        "id": "AKOx5K0YOlUZ",
        "outputId": "5e3f1b89-b79d-4f25-a22b-55bccb79a827"
      },
      "execution_count": null,
      "outputs": [
        {
          "output_type": "stream",
          "name": "stdout",
          "text": [
            "Pembalap F1 terbaik adalah Lewis Hamilton\n"
          ]
        }
      ]
    }
  ]
}